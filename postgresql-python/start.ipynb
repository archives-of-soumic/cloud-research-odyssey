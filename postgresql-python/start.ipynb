{
 "metadata": {
  "language_info": {
   "codemirror_mode": {
    "name": "ipython",
    "version": 3
   },
   "file_extension": ".py",
   "mimetype": "text/x-python",
   "name": "python",
   "nbconvert_exporter": "python",
   "pygments_lexer": "ipython3",
   "version": "3.8.3-final"
  },
  "orig_nbformat": 2,
  "kernelspec": {
   "name": "python38364bitvenvvenvb96dff6ea59e4def899ad3b3c0d72f28",
   "display_name": "Python 3.8.3 64-bit ('venv': venv)"
  }
 },
 "nbformat": 4,
 "nbformat_minor": 2,
 "cells": [
  {
   "cell_type": "markdown",
   "metadata": {},
   "source": [
    "# Postgresql Tests With Python\n",
    "In this jupyter notebook, I will be testing bulk insert, execute some queries on about 2 million rows of data, and save their execution times."
   ]
  },
  {
   "cell_type": "markdown",
   "metadata": {},
   "source": [
    "## Import libraries"
   ]
  },
  {
   "cell_type": "code",
   "execution_count": 23,
   "metadata": {},
   "outputs": [],
   "source": [
    "import os\n",
    "from dotenv import load_dotenv\n",
    "import psycopg2\n",
    "import time"
   ]
  },
  {
   "cell_type": "markdown",
   "metadata": {},
   "source": [
    "## Declare Variables and SQL Commands"
   ]
  },
  {
   "cell_type": "code",
   "execution_count": 24,
   "metadata": {},
   "outputs": [],
   "source": [
    "_host=\"\";\n",
    "_database=\"\";\n",
    "_user=\"\";\n",
    "_password=\"\";\n",
    "\n",
    "TABLE_NAME = \"BUSINESS_DATA_JUPYTER\";\n",
    "\n",
    "CREATE_TABLE_BUSINESS_DATA = '''CREATE TABLE IF NOT EXISTS ''' + TABLE_NAME + ''' (\n",
    "    pk BIGSERIAL PRIMARY KEY,\n",
    "    CompanyName VARCHAR(500),\n",
    "    EmailAddress VARCHAR(500),\n",
    "    ContactFullName VARCHAR(500),\n",
    "    ContactJobTitle VARCHAR(500),\n",
    "    PhoneNumber VARCHAR(50),\n",
    "    FaxNumber VARCHAR(100),\n",
    "    Address VARCHAR(500),\n",
    "    Address2 VARCHAR(500),\n",
    "    Address3 VARCHAR(500),\n",
    "    Town VARCHAR(500),\n",
    "    County VARCHAR(500),\n",
    "    Postcode VARCHAR(500),\n",
    "    Region VARCHAR(500),\n",
    "    Country VARCHAR(500),\n",
    "    SICCode INT,\n",
    "    BusinessCategory VARCHAR(500),\n",
    "    WebAddress VARCHAR(500)\n",
    ");''';\n",
    "\n",
    "BULK_INSERT_FROM_CSV = '''COPY '''+TABLE_NAME+'''(\n",
    "    CompanyName,EmailAddress,ContactFullName,ContactJobTitle,PhoneNumber,FaxNumber,\n",
    "    Address,Address2,Address3,Town,County,Postcode,Region,Country, SICCode, \n",
    "    BusinessCategory,WebAddress) \n",
    "    FROM '/home/soumic/Codes/cloud-research-odyssey/files-n-datasets/business_data/input.csv' \n",
    "    DELIMITER '*' csv header;\n",
    "''';\n",
    "\n",
    "QUERY_1 = '''SELECT COUNT(*) FROM '''+TABLE_NAME+'''WHERE EmailAddress LIKE '%.com';''';\n",
    "QUERY_DELETE = '''DELETE FROM '''+TABLE_NAME + ''' WHERE PK&1 == 1;''';\n",
    "QUERY_DROP = '''DROP TABLE '''+TABLE_NAME+''';''';"
   ]
  },
  {
   "cell_type": "markdown",
   "metadata": {},
   "source": [
    "## Load Credentials From .Env File"
   ]
  },
  {
   "cell_type": "code",
   "execution_count": 25,
   "metadata": {},
   "outputs": [],
   "source": [
    "def load_env_variables():\n",
    "    load_dotenv();\n",
    "    \n",
    "    _host = os.getenv(\"HOST\");\n",
    "    _database = os.getenv(\"DATABASE\");\n",
    "    _user = os.getenv(\"USER\");\n",
    "    _password = os.getenv(\"PASSWORD\");\n",
    "    \n",
    "    pass"
   ]
  },
  {
   "cell_type": "markdown",
   "metadata": {},
   "source": [
    "## Create and Close Connections\n",
    "I'll define some functions that will connect us to postgresql. When work is finished, we should close the connections:"
   ]
  },
  {
   "cell_type": "code",
   "execution_count": 26,
   "metadata": {},
   "outputs": [],
   "source": [
    "def create_connection():\n",
    "    conn = None;\n",
    "    try:\n",
    "        # conn = psycopg2.connect(host=_host,database=_database,user=_user,password=_password);\n",
    "        conn = psycopg2.connect(host=_host,database=_database,user=_user,password=_password);\n",
    "    except Exception as x:\n",
    "        print(\"Exception \"+str(x));\n",
    "    return conn;\n",
    "\n",
    "def close_connection(conn):\n",
    "    try:\n",
    "        if conn is not None:\n",
    "            conn.close()\n",
    "    except Exception as x:\n",
    "        print(\"Exception \"+str(x));\n",
    "    pass;\n",
    "\n",
    "def create_cursor(conn):\n",
    "    cursor = None;\n",
    "    try:\n",
    "        cursor = conn.cursor();\n",
    "    except Exception as x:\n",
    "        print(\"Exception \"+str(x));\n",
    "    return cursor;\n",
    "\n",
    "def close_cursor(cursor):\n",
    "    try:\n",
    "        cursor.close();\n",
    "    except Exception as x:\n",
    "        print(\"Exception \"+str(x));\n",
    "    pass;\n"
   ]
  },
  {
   "cell_type": "markdown",
   "metadata": {},
   "source": [
    "## Main Function Start\n"
   ]
  },
  {
   "cell_type": "code",
   "execution_count": 27,
   "metadata": {
    "tags": []
   },
   "outputs": [],
   "source": [
    "#if __name__ == \"__main__\":\n",
    "    # load_env_variables();\n",
    "    # conn = create_connection();\n",
    "    # cursor = create_cursor(conn);\n",
    "\n",
    "    # close_cursor(cursor);\n",
    "    # close_connection(conn);\n"
   ]
  },
  {
   "cell_type": "markdown",
   "metadata": {},
   "source": [
    "## Create Table"
   ]
  },
  {
   "cell_type": "code",
   "execution_count": 28,
   "metadata": {
    "tags": []
   },
   "outputs": [
    {
     "output_type": "stream",
     "name": "stdout",
     "text": "---------1. CREATE TABLE-------------\n"
    },
    {
     "output_type": "error",
     "ename": "TypeError",
     "evalue": "'NoneType' object is not callable",
     "traceback": [
      "\u001b[0;31m---------------------------------------------------------------------------\u001b[0m",
      "\u001b[0;31mTypeError\u001b[0m                                 Traceback (most recent call last)",
      "\u001b[0;32m<ipython-input-28-71b61957fcb2>\u001b[0m in \u001b[0;36m<module>\u001b[0;34m\u001b[0m\n\u001b[1;32m      6\u001b[0m \u001b[0mstart_time1\u001b[0m \u001b[0;34m=\u001b[0m \u001b[0mtime\u001b[0m\u001b[0;34m.\u001b[0m\u001b[0mtime\u001b[0m\u001b[0;34m(\u001b[0m\u001b[0;34m)\u001b[0m\u001b[0;34m;\u001b[0m\u001b[0;34m\u001b[0m\u001b[0;34m\u001b[0m\u001b[0m\n\u001b[1;32m      7\u001b[0m \u001b[0;34m\u001b[0m\u001b[0m\n\u001b[0;32m----> 8\u001b[0;31m \u001b[0mcursor\u001b[0m\u001b[0;34m.\u001b[0m\u001b[0mquery\u001b[0m\u001b[0;34m(\u001b[0m\u001b[0mCREATE_TABLE_BUSINESS_DATA\u001b[0m\u001b[0;34m)\u001b[0m\u001b[0;34m;\u001b[0m\u001b[0;34m\u001b[0m\u001b[0;34m\u001b[0m\u001b[0m\n\u001b[0m\u001b[1;32m      9\u001b[0m \u001b[0mconn\u001b[0m\u001b[0;34m.\u001b[0m\u001b[0mcommit\u001b[0m\u001b[0;34m(\u001b[0m\u001b[0;34m)\u001b[0m\u001b[0;34m;\u001b[0m\u001b[0;34m\u001b[0m\u001b[0;34m\u001b[0m\u001b[0m\n\u001b[1;32m     10\u001b[0m \u001b[0;34m\u001b[0m\u001b[0m\n",
      "\u001b[0;31mTypeError\u001b[0m: 'NoneType' object is not callable"
     ]
    }
   ],
   "source": [
    "# load_env_variables();\n",
    "# conn = create_connection();\n",
    "# cursor = create_cursor(conn);\n",
    "\n",
    "print(\"---------1. CREATE TABLE-------------\");\n",
    "start_time1 = time.time();\n",
    "\n",
    "cursor.query(CREATE_TABLE_BUSINESS_DATA);\n",
    "conn.commit();\n",
    "\n",
    "end_time1 = time.time();\n",
    "dt1 = end_time1 - start_time1;\n",
    "print(\"Time to create table = \"+dt1);\n",
    "\n",
    "# close_cursor(cursor);\n",
    "# close_connection(conn);"
   ]
  },
  {
   "cell_type": "markdown",
   "metadata": {},
   "source": [
    "### Output\n",
    "\n",
    "## InsertData"
   ]
  },
  {
   "cell_type": "code",
   "execution_count": 29,
   "metadata": {
    "tags": []
   },
   "outputs": [
    {
     "output_type": "stream",
     "name": "stdout",
     "text": "---------2. BULK INSERT ---------------------\n"
    },
    {
     "output_type": "error",
     "ename": "TypeError",
     "evalue": "'NoneType' object is not callable",
     "traceback": [
      "\u001b[0;31m---------------------------------------------------------------------------\u001b[0m",
      "\u001b[0;31mTypeError\u001b[0m                                 Traceback (most recent call last)",
      "\u001b[0;32m<ipython-input-29-44fa92dec1de>\u001b[0m in \u001b[0;36m<module>\u001b[0;34m\u001b[0m\n\u001b[1;32m      7\u001b[0m \u001b[0;34m\u001b[0m\u001b[0m\n\u001b[1;32m      8\u001b[0m \u001b[0;31m# execute_query(cursor=cursor, conn=conn, query=BULK_INSERT_FROM_CSV, is_commit=True);\u001b[0m\u001b[0;34m\u001b[0m\u001b[0;34m\u001b[0m\u001b[0;34m\u001b[0m\u001b[0m\n\u001b[0;32m----> 9\u001b[0;31m \u001b[0mcursor\u001b[0m\u001b[0;34m.\u001b[0m\u001b[0mquery\u001b[0m\u001b[0;34m(\u001b[0m\u001b[0mBULK_INSERT_FROM_CSV\u001b[0m\u001b[0;34m)\u001b[0m\u001b[0;34m;\u001b[0m\u001b[0;34m\u001b[0m\u001b[0;34m\u001b[0m\u001b[0m\n\u001b[0m\u001b[1;32m     10\u001b[0m \u001b[0mconn\u001b[0m\u001b[0;34m.\u001b[0m\u001b[0mcommit\u001b[0m\u001b[0;34m(\u001b[0m\u001b[0;32mTrue\u001b[0m\u001b[0;34m)\u001b[0m\u001b[0;34m;\u001b[0m\u001b[0;34m\u001b[0m\u001b[0;34m\u001b[0m\u001b[0m\n\u001b[1;32m     11\u001b[0m \u001b[0;34m\u001b[0m\u001b[0m\n",
      "\u001b[0;31mTypeError\u001b[0m: 'NoneType' object is not callable"
     ]
    }
   ],
   "source": [
    "# load_env_variables();\n",
    "# conn = create_connection();\n",
    "# cursor = create_cursor(conn);\n",
    "\n",
    "print(\"---------2. BULK INSERT ---------------------\")\n",
    "start_bulk_insert = time.time();\n",
    "\n",
    "# execute_query(cursor=cursor, conn=conn, query=BULK_INSERT_FROM_CSV, is_commit=True);\n",
    "cursor.query(BULK_INSERT_FROM_CSV);\n",
    "conn.commit(True);\n",
    "\n",
    "end_bulk_insert = time.time();\n",
    "dtime_bulk_insert = end_bulk_insert - start_bulk_insert;\n",
    "\n",
    "print(\"start_bulk_insert = \"+str(start_bulk_insert));\n",
    "print(\"end_bulk_insert = \"+str(end_bulk_insert));\n",
    "print(\"dtime_bulk_insert = \"+str(dtime_bulk_insert));\n",
    "\n",
    "# close_cursor(cursor);\n",
    "# close_connection(conn);\n"
   ]
  },
  {
   "cell_type": "markdown",
   "metadata": {},
   "source": [
    "### Output\n",
    "## Execute Some Simple Queries"
   ]
  },
  {
   "cell_type": "code",
   "execution_count": 30,
   "metadata": {
    "tags": []
   },
   "outputs": [
    {
     "output_type": "stream",
     "name": "stdout",
     "text": "---------3. SIMPLE QUERIES ---------------------\n"
    },
    {
     "output_type": "error",
     "ename": "TypeError",
     "evalue": "'NoneType' object is not callable",
     "traceback": [
      "\u001b[0;31m---------------------------------------------------------------------------\u001b[0m",
      "\u001b[0;31mTypeError\u001b[0m                                 Traceback (most recent call last)",
      "\u001b[0;32m<ipython-input-30-8fae4f4e9848>\u001b[0m in \u001b[0;36m<module>\u001b[0;34m\u001b[0m\n\u001b[1;32m      7\u001b[0m \u001b[0;34m\u001b[0m\u001b[0m\n\u001b[1;32m      8\u001b[0m \u001b[0;31m# execute_query(cursor=cursor, conn=conn, query=BULK_INSERT_FROM_CSV, is_commit=True);\u001b[0m\u001b[0;34m\u001b[0m\u001b[0;34m\u001b[0m\u001b[0;34m\u001b[0m\u001b[0m\n\u001b[0;32m----> 9\u001b[0;31m \u001b[0mcursor\u001b[0m\u001b[0;34m.\u001b[0m\u001b[0mquery\u001b[0m\u001b[0;34m(\u001b[0m\u001b[0mQUERY_1\u001b[0m\u001b[0;34m)\u001b[0m\u001b[0;34m;\u001b[0m\u001b[0;34m\u001b[0m\u001b[0;34m\u001b[0m\u001b[0m\n\u001b[0m\u001b[1;32m     10\u001b[0m \u001b[0mresult\u001b[0m \u001b[0;34m=\u001b[0m \u001b[0mcursor\u001b[0m\u001b[0;34m.\u001b[0m\u001b[0mfetchone\u001b[0m\u001b[0;34m(\u001b[0m\u001b[0;34m)\u001b[0m\u001b[0;34m;\u001b[0m\u001b[0;34m\u001b[0m\u001b[0;34m\u001b[0m\u001b[0m\n\u001b[1;32m     11\u001b[0m \u001b[0;34m\u001b[0m\u001b[0m\n",
      "\u001b[0;31mTypeError\u001b[0m: 'NoneType' object is not callable"
     ]
    }
   ],
   "source": [
    "# load_env_variables();\n",
    "# conn = create_connection();\n",
    "# cursor = create_cursor(conn);\n",
    "\n",
    "print(\"---------3. SIMPLE QUERIES ---------------------\")\n",
    "start_3 = time.time();\n",
    "\n",
    "# execute_query(cursor=cursor, conn=conn, query=BULK_INSERT_FROM_CSV, is_commit=True);\n",
    "cursor.query(QUERY_1);\n",
    "result = cursor.fetchone();\n",
    "\n",
    "end_3 = time.time();\n",
    "dtime_3 = end_3 - start_3;\n",
    "\n",
    "print(\"start_3 = \"+str(start_3));\n",
    "print(\"end_3 = \"+str(end_3));\n",
    "print(\"dtime_3 = \"+str(dtime_3));\n",
    "\n",
    "# close_cursor(cursor);\n",
    "# close_connection(conn);"
   ]
  },
  {
   "cell_type": "markdown",
   "metadata": {},
   "source": [
    "### Output\n",
    "## Delete 50% Data Like Thanos :fire:"
   ]
  },
  {
   "cell_type": "code",
   "execution_count": 31,
   "metadata": {
    "tags": []
   },
   "outputs": [
    {
     "output_type": "stream",
     "name": "stdout",
     "text": "---------4. DELETE DATA ---------------------\n"
    },
    {
     "output_type": "error",
     "ename": "TypeError",
     "evalue": "'NoneType' object is not callable",
     "traceback": [
      "\u001b[0;31m---------------------------------------------------------------------------\u001b[0m",
      "\u001b[0;31mTypeError\u001b[0m                                 Traceback (most recent call last)",
      "\u001b[0;32m<ipython-input-31-7d9ce493c4e0>\u001b[0m in \u001b[0;36m<module>\u001b[0;34m\u001b[0m\n\u001b[1;32m      7\u001b[0m \u001b[0;34m\u001b[0m\u001b[0m\n\u001b[1;32m      8\u001b[0m \u001b[0;31m# execute_query(cursor=cursor, conn=conn, query=BULK_INSERT_FROM_CSV, is_commit=True);\u001b[0m\u001b[0;34m\u001b[0m\u001b[0;34m\u001b[0m\u001b[0;34m\u001b[0m\u001b[0m\n\u001b[0;32m----> 9\u001b[0;31m \u001b[0mcursor\u001b[0m\u001b[0;34m.\u001b[0m\u001b[0mquery\u001b[0m\u001b[0;34m(\u001b[0m\u001b[0mQUERY_DELETE\u001b[0m\u001b[0;34m)\u001b[0m\u001b[0;34m;\u001b[0m\u001b[0;34m\u001b[0m\u001b[0;34m\u001b[0m\u001b[0m\n\u001b[0m\u001b[1;32m     10\u001b[0m \u001b[0mresult\u001b[0m \u001b[0;34m=\u001b[0m \u001b[0mcursor\u001b[0m\u001b[0;34m.\u001b[0m\u001b[0mfetchone\u001b[0m\u001b[0;34m(\u001b[0m\u001b[0;34m)\u001b[0m\u001b[0;34m;\u001b[0m\u001b[0;34m\u001b[0m\u001b[0;34m\u001b[0m\u001b[0m\n\u001b[1;32m     11\u001b[0m \u001b[0;34m\u001b[0m\u001b[0m\n",
      "\u001b[0;31mTypeError\u001b[0m: 'NoneType' object is not callable"
     ]
    }
   ],
   "source": [
    "# load_env_variables();\n",
    "# conn = create_connection();\n",
    "# cursor = create_cursor(conn);\n",
    "\n",
    "print(\"---------4. DELETE DATA ---------------------\")\n",
    "start_4 = time.time();\n",
    "\n",
    "# execute_query(cursor=cursor, conn=conn, query=BULK_INSERT_FROM_CSV, is_commit=True);\n",
    "cursor.query(QUERY_DELETE);\n",
    "result = cursor.fetchone();\n",
    "\n",
    "end_4 = time.time();\n",
    "dtime_4 = end_4 - start_4;\n",
    "\n",
    "print(\"start_4 = \"+str(start_4));\n",
    "print(\"end_4 = \"+str(end_4));\n",
    "print(\"dtime_4 = \"+str(dtime_4));\n",
    "\n",
    "# close_cursor(cursor);\n",
    "# close_connection(conn);"
   ]
  },
  {
   "cell_type": "markdown",
   "metadata": {},
   "source": [
    "### Output\n",
    "## Drop Table"
   ]
  },
  {
   "cell_type": "code",
   "execution_count": 32,
   "metadata": {
    "tags": []
   },
   "outputs": [
    {
     "output_type": "stream",
     "name": "stdout",
     "text": "---------5. DROP TABLE ---------------------\n"
    },
    {
     "output_type": "error",
     "ename": "TypeError",
     "evalue": "'NoneType' object is not callable",
     "traceback": [
      "\u001b[0;31m---------------------------------------------------------------------------\u001b[0m",
      "\u001b[0;31mTypeError\u001b[0m                                 Traceback (most recent call last)",
      "\u001b[0;32m<ipython-input-32-034fc0551e77>\u001b[0m in \u001b[0;36m<module>\u001b[0;34m\u001b[0m\n\u001b[1;32m      7\u001b[0m \u001b[0;34m\u001b[0m\u001b[0m\n\u001b[1;32m      8\u001b[0m \u001b[0;31m# execute_query(cursor=cursor, conn=conn, query=BULK_INSERT_FROM_CSV, is_commit=True);\u001b[0m\u001b[0;34m\u001b[0m\u001b[0;34m\u001b[0m\u001b[0;34m\u001b[0m\u001b[0m\n\u001b[0;32m----> 9\u001b[0;31m \u001b[0mcursor\u001b[0m\u001b[0;34m.\u001b[0m\u001b[0mquery\u001b[0m\u001b[0;34m(\u001b[0m\u001b[0mQUERY_DELETE\u001b[0m\u001b[0;34m)\u001b[0m\u001b[0;34m;\u001b[0m\u001b[0;34m\u001b[0m\u001b[0;34m\u001b[0m\u001b[0m\n\u001b[0m\u001b[1;32m     10\u001b[0m \u001b[0mconn\u001b[0m\u001b[0;34m.\u001b[0m\u001b[0mcommit\u001b[0m\u001b[0;34m(\u001b[0m\u001b[0;34m)\u001b[0m\u001b[0;34m;\u001b[0m\u001b[0;34m\u001b[0m\u001b[0;34m\u001b[0m\u001b[0m\n\u001b[1;32m     11\u001b[0m \u001b[0;34m\u001b[0m\u001b[0m\n",
      "\u001b[0;31mTypeError\u001b[0m: 'NoneType' object is not callable"
     ]
    }
   ],
   "source": [
    "# load_env_variables();\n",
    "# conn = create_connection();\n",
    "# cursor = create_cursor(conn);\n",
    "\n",
    "print(\"---------5. DROP TABLE ---------------------\")\n",
    "start_5 = time.time();\n",
    "\n",
    "# execute_query(cursor=cursor, conn=conn, query=BULK_INSERT_FROM_CSV, is_commit=True);\n",
    "cursor.query(QUERY_DELETE);\n",
    "conn.commit();\n",
    "\n",
    "end_5 = time.time();\n",
    "dtime_5 = end_5 - start_5;\n",
    "\n",
    "print(\"start_5 = \"+str(start_5));\n",
    "print(\"end_5 = \"+str(end_5));\n",
    "print(\"dtime_5 = \"+str(dtime_5));\n",
    "\n",
    "# close_cursor(cursor);\n",
    "# close_connection(conn);"
   ]
  },
  {
   "cell_type": "markdown",
   "metadata": {},
   "source": [
    "### Output\n",
    "## Close Connections"
   ]
  },
  {
   "cell_type": "code",
   "execution_count": 33,
   "metadata": {},
   "outputs": [],
   "source": [
    "close_cursor(cursor);\n",
    "close_connection(conn);\n",
    "\n",
    "# pass"
   ]
  },
  {
   "cell_type": "markdown",
   "metadata": {},
   "source": []
  },
  {
   "cell_type": "markdown",
   "metadata": {},
   "source": [
    "## Something Went Wrong\n",
    "Idk why but the jupyter notebook is not running :/ The code is almost similar to `start.py` codes.\n",
    "Some results that I copied from terminal:\n",
    "```\n",
    " ---------1. CREATE TABLE-------------\n",
    "start_bulk_insert = 1597764497.665616\n",
    "end_bulk_insert = 1597764525.7351696\n",
    "dtime_bulk_insert = 28.06955361366272\n",
    "---------2. SELECT COUNT(*) FROM BUSINESS_DATA_PYTHON;---------------------\n",
    "(2226295,)\n",
    "start_fetch_time1597764525.7352195\n",
    "end_fetch_time1597764526.2405286\n",
    "dtime_fetch = 0.5053091049194336\n",
    "```"
   ]
  },
  {
   "cell_type": "markdown",
   "metadata": {},
   "source": [
    "## Laptop Specs\n",
    "```\n",
    "                                       soumic@debian-hp-laptop\n",
    " MMMMMMMMMMMMMMMMMMMMMMMMMmds+.        OS: Linuxmint 4 debbie\n",
    " MMm----::-://////////////oymNMd+`     Kernel: x86_64 Linux 5.7.0-0.bpo.2-amd64\n",
    " MMd      /++                -sNMd:    Uptime: 6m\n",
    " MMNso/`  dMM    `.::-. .-::.` .hMN:   Packages: 2270\n",
    " ddddMMh  dMM   :hNMNMNhNMNMNh: `NMm   Shell: bash 5.0.3\n",
    "     NMm  dMM  .NMN/-+MMM+-/NMN` dMM   Resolution: 1366x768\n",
    "     NMm  dMM  -MMm  `MMM   dMM. dMM   DE: Cinnamon 4.6.7\n",
    "     NMm  dMM  -MMm  `MMM   dMM. dMM   WM: Muffin\n",
    "     NMm  dMM  .mmd  `mmm   yMM. dMM   WM Theme: Adara (Mint-Y)\n",
    "     NMm  dMM`  ..`   ...   ydm. dMM   GTK Theme: Mint-Y [GTK2/3]\n",
    "     hMM- +MMd/-------...-:sdds  dMM   Icon Theme: Paper\n",
    "     -NMm- :hNMNNNmdddddddddy/`  dMM   Font: Ubuntu Condensed, 10\n",
    "      -dMNs-``-::::-------.``    dMM   CPU: Intel Core i5-8250U @ 8x 3.4GHz [46.0°C]\n",
    "       `/dMNmy+/:-------------:/yMMM   GPU: Mesa DRI Intel(R) UHD Graphics 620 (Kabylake GT2) \n",
    "          ./ydNMMMMMMMMMMMMMMMMMMMMM   RAM: 1937MiB / 7922MiB\n",
    "             \\.MMMMMMMMMMMMMMMMMMM    \n",
    "   ```                                   "
   ]
  }
 ]
}